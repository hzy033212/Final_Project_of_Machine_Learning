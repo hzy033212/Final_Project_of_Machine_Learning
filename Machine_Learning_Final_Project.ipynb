{
 "cells": [
  {
   "cell_type": "markdown",
   "metadata": {},
   "source": [
    "# Machine Learning Final Project"
   ]
  },
  {
   "cell_type": "markdown",
   "metadata": {},
   "source": [
    "###### by Eric Huang"
   ]
  },
  {
   "cell_type": "markdown",
   "metadata": {},
   "source": [
    "I hereby confirm that this submission is my work. I have cited above the origins of any parts of the submission that were taken from Websites, books, forums, blog posts, github repositories, etc.\n",
    "\n",
    "I use Wikipedia for Enron scandal[https://en.wikipedia.org/wiki/Enron_scandal], Udacity ud120-projects codes and any related sklearn official documents for reference."
   ]
  },
  {
   "cell_type": "markdown",
   "metadata": {},
   "source": [
    "## Data Exploration"
   ]
  },
  {
   "cell_type": "markdown",
   "metadata": {},
   "source": [
    "The Enron scandal, publicized in October 2001, eventually led to the bankruptcy of the Enron Corporation, an American energy company based in Houston, Texas, and the de facto dissolution of Arthur Andersen, which was one of the five largest audit and accountancy partnerships in the world. In addition to being the largest bankruptcy reorganization in American history at that time, Enron was cited as the biggest audit failure. In this project I will build a person of interest identifier based on financial and email data made public as a result of the Enron scandal.\n",
    "\n",
    "Financial data here is directly related to bankruptcy scandal, and emails somewhat show the relationship between different people which may be people of interest. In this final project, I will use these two kinds of information and properly choosen machine learning classifiers to predict real people of interest. "
   ]
  },
  {
   "cell_type": "code",
   "execution_count": 1,
   "metadata": {
    "collapsed": true
   },
   "outputs": [],
   "source": [
    "import os\n",
    "os.chdir('C:\\Users\\zhengyhu\\Desktop\\ud120-projects-master/final_project')"
   ]
  },
  {
   "cell_type": "code",
   "execution_count": 2,
   "metadata": {
    "collapsed": true
   },
   "outputs": [],
   "source": [
    "import sys\n",
    "import pickle\n",
    "from sklearn import preprocessing\n",
    "from time import time\n",
    "from sklearn.metrics import accuracy_score\n",
    "from sklearn.metrics import precision_score\n",
    "from sklearn.metrics import recall_score\n",
    "sys.path.append(\"../tools/\")\n",
    "\n",
    "\n",
    "from feature_format import featureFormat\n",
    "from feature_format import targetFeatureSplit\n",
    "\n",
    "### features_list is a list of strings, each of which is a feature name\n",
    "### first feature must be \"poi\", as this will be singled out as the label\n",
    "features_list = [\"poi\"]\n",
    "\n",
    "### load the dictionary containing the dataset\n",
    "data_dict = pickle.load(open(\"final_project_dataset.pkl\", \"r\") )"
   ]
  },
  {
   "cell_type": "markdown",
   "metadata": {},
   "source": [
    "Firstly let's inspect the important characters of the given dataset."
   ]
  },
  {
   "cell_type": "code",
   "execution_count": 3,
   "metadata": {
    "collapsed": false
   },
   "outputs": [
    {
     "name": "stdout",
     "output_type": "stream",
     "text": [
      "There are  146  executives in Enron Dataset.\n"
     ]
    }
   ],
   "source": [
    "print \"There are \", len(data_dict.keys()), \" executives in Enron Dataset.\""
   ]
  },
  {
   "cell_type": "code",
   "execution_count": 4,
   "metadata": {
    "collapsed": false
   },
   "outputs": [
    {
     "name": "stdout",
     "output_type": "stream",
     "text": [
      "['METTS MARK', 'BAXTER JOHN C', 'ELLIOTT STEVEN', 'CORDES WILLIAM R', 'HANNON KEVIN P', 'MORDAUNT KRISTINA M', 'MEYER ROCKFORD G', 'MCMAHON JEFFREY', 'HORTON STANLEY C', 'PIPER GREGORY F', 'HUMPHREY GENE E', 'UMANOFF ADAM S', 'BLACHMAN JEREMY M', 'SUNDE MARTIN', 'GIBBS DANA R', 'LOWRY CHARLES P', 'COLWELL WESLEY', 'MULLER MARK S', 'JACKSON CHARLENE R', 'WESTFAHL RICHARD K', 'WALTERS GARETH W', 'WALLS JR ROBERT H', 'KITCHEN LOUISE', 'CHAN RONNIE', 'BELFER ROBERT', 'SHANKMAN JEFFREY A', 'WODRASKA JOHN', 'BERGSIEKER RICHARD P', 'URQUHART JOHN A', 'BIBI PHILIPPE A', 'RIEKER PAULA H', 'WHALEY DAVID A', 'BECK SALLY W', 'HAUG DAVID L', 'ECHOLS JOHN B', 'MENDELSOHN JOHN', 'HICKERSON GARY J', 'CLINE KENNETH W', 'LEWIS RICHARD', 'HAYES ROBERT E', 'MCCARTY DANNY J', 'KOPPER MICHAEL J', 'LEFF DANIEL P', 'LAVORATO JOHN J', 'BERBERIAN DAVID', 'DETMERING TIMOTHY J', 'WAKEHAM JOHN', 'POWERS WILLIAM', 'GOLD JOSEPH', 'BANNANTINE JAMES M', 'DUNCAN JOHN H', 'SHAPIRO RICHARD S', 'SHERRIFF JOHN R', 'SHELBY REX', 'LEMAISTRE CHARLES', 'DEFFNER JOSEPH M', 'KISHKILL JOSEPH G', 'WHALLEY LAWRENCE G', 'MCCONNELL MICHAEL S', 'PIRO JIM', 'DELAINEY DAVID W', 'SULLIVAN-SHAKLOVITZ COLLEEN', 'WROBEL BRUCE', 'LINDHOLM TOD A', 'MEYER JEROME J', 'LAY KENNETH L', 'BUTTS ROBERT H', 'OLSON CINDY K', 'MCDONALD REBECCA', 'CUMBERLAND MICHAEL S', 'GAHN ROBERT S', 'MCCLELLAN GEORGE', 'HERMANN ROBERT J', 'SCRIMSHAW MATTHEW', 'GATHMANN WILLIAM D', 'HAEDICKE MARK E', 'BOWEN JR RAYMOND M', 'GILLIS JOHN', 'FITZGERALD JAY L', 'MORAN MICHAEL P', 'REDMOND BRIAN L', 'BAZELIDES PHILIP J', 'BELDEN TIMOTHY N', 'DURAN WILLIAM D', 'THORN TERENCE H', 'FASTOW ANDREW S', 'FOY JOE', 'CALGER CHRISTOPHER F', 'RICE KENNETH D', 'KAMINSKI WINCENTY J', 'LOCKHART EUGENE E', 'COX DAVID', 'OVERDYKE JR JERE C', 'PEREIRA PAULO V. FERRAZ', 'STABLER FRANK', 'SKILLING JEFFREY K', 'BLAKE JR. NORMAN P', 'SHERRICK JEFFREY B', 'PRENTICE JAMES', 'GRAY RODNEY', 'PICKERING MARK R', 'THE TRAVEL AGENCY IN THE PARK', 'NOLES JAMES L', 'KEAN STEVEN J', 'TOTAL', 'FOWLER PEGGY', 'WASAFF GEORGE', 'WHITE JR THOMAS E', 'CHRISTODOULOU DIOMEDES', 'ALLEN PHILLIP K', 'SHARP VICTORIA T', 'JAEDICKE ROBERT', 'WINOKUR JR. HERBERT S', 'BROWN MICHAEL', 'BADUM JAMES P', 'HUGHES JAMES A', 'REYNOLDS LAWRENCE', 'DIMICHELE RICHARD G', 'BHATNAGAR SANJAY', 'CARTER REBECCA C', 'BUCHANAN HAROLD G', 'YEAP SOON', 'MURRAY JULIA H', 'GARLAND C KEVIN', 'DODSON KEITH', 'YEAGER F SCOTT', 'HIRKO JOSEPH', 'DIETRICH JANET R', 'DERRICK JR. JAMES V', 'FREVERT MARK A', 'PAI LOU L', 'BAY FRANKLIN R', 'HAYSLETT RODERICK J', 'FUGH JOHN L', 'FALLON JAMES B', 'KOENIG MARK E', 'SAVAGE FRANK', 'IZZO LAWRENCE L', 'TILNEY ELIZABETH A', 'MARTIN AMANDA K', 'BUY RICHARD B', 'GRAMM WENDY L', 'CAUSEY RICHARD A', 'TAYLOR MITCHELL S', 'DONAHUE JR JEFFREY M', 'GLISAN JR BEN F']\n"
     ]
    }
   ],
   "source": [
    "print data_dict.keys()"
   ]
  },
  {
   "cell_type": "code",
   "execution_count": 5,
   "metadata": {
    "collapsed": false
   },
   "outputs": [
    {
     "name": "stdout",
     "output_type": "stream",
     "text": [
      "Value of first person in previous example :\n",
      "\n",
      "{'salary': 365788, 'to_messages': 807, 'deferral_payments': 'NaN', 'total_payments': 1061827, 'exercised_stock_options': 'NaN', 'bonus': 600000, 'restricted_stock': 585062, 'shared_receipt_with_poi': 702, 'restricted_stock_deferred': 'NaN', 'total_stock_value': 585062, 'expenses': 94299, 'loan_advances': 'NaN', 'from_messages': 29, 'other': 1740, 'from_this_person_to_poi': 1, 'poi': False, 'director_fees': 'NaN', 'deferred_income': 'NaN', 'long_term_incentive': 'NaN', 'email_address': 'mark.metts@enron.com', 'from_poi_to_this_person': 38}\n",
      "\n",
      "Keys of all related persons :\n",
      "\n",
      "['salary', 'to_messages', 'deferral_payments', 'total_payments', 'exercised_stock_options', 'bonus', 'restricted_stock', 'shared_receipt_with_poi', 'restricted_stock_deferred', 'total_stock_value', 'expenses', 'loan_advances', 'from_messages', 'other', 'from_this_person_to_poi', 'poi', 'director_fees', 'deferred_income', 'long_term_incentive', 'email_address', 'from_poi_to_this_person']\n"
     ]
    }
   ],
   "source": [
    "print \"Value of first person in previous example :\\n\"\n",
    "print data_dict['METTS MARK']\n",
    "print \"\\nKeys of all related persons :\\n\"\n",
    "print data_dict['METTS MARK'].keys()"
   ]
  },
  {
   "cell_type": "code",
   "execution_count": 6,
   "metadata": {
    "collapsed": false
   },
   "outputs": [
    {
     "name": "stdout",
     "output_type": "stream",
     "text": [
      "Including 146 total person info, calculate number of POIs and number of non-POIs :\n",
      "Total number of POIs is  18\n",
      "Total number of non-POIs is  128\n"
     ]
    }
   ],
   "source": [
    "print \"Including 146 total person info, calculate number of POIs and number of non-POIs :\"\n",
    "num_POI = 0\n",
    "for person in data_dict.keys():\n",
    "    if data_dict[person]['poi']:\n",
    "        num_POI += 1\n",
    "print \"Total number of POIs is \", num_POI\n",
    "print \"Total number of non-POIs is \", 146 - num_POI"
   ]
  },
  {
   "cell_type": "code",
   "execution_count": 7,
   "metadata": {
    "collapsed": false
   },
   "outputs": [
    {
     "name": "stdout",
     "output_type": "stream",
     "text": [
      "Total number of features :\n",
      "21\n"
     ]
    }
   ],
   "source": [
    "print \"Total number of features :\"\n",
    "print len(data_dict['METTS MARK'].keys())"
   ]
  },
  {
   "cell_type": "code",
   "execution_count": 8,
   "metadata": {
    "collapsed": false
   },
   "outputs": [
    {
     "name": "stdout",
     "output_type": "stream",
     "text": [
      "For EACH features, calculate the number of missing values :\n",
      "{'salary': 0.3493150684931507, 'to_messages': 0.410958904109589, 'deferral_payments': 0.7328767123287672, 'total_payments': 0.14383561643835616, 'loan_advances': 0.9726027397260274, 'bonus': 0.4383561643835616, 'email_address': 0.23972602739726026, 'restricted_stock_deferred': 0.8767123287671232, 'total_stock_value': 0.136986301369863, 'shared_receipt_with_poi': 0.410958904109589, 'long_term_incentive': 0.547945205479452, 'exercised_stock_options': 0.3013698630136986, 'from_messages': 0.410958904109589, 'other': 0.363013698630137, 'from_poi_to_this_person': 0.410958904109589, 'from_this_person_to_poi': 0.410958904109589, 'poi': 0.0, 'deferred_income': 0.6643835616438356, 'expenses': 0.3493150684931507, 'restricted_stock': 0.2465753424657534, 'director_fees': 0.8835616438356164}\n"
     ]
    }
   ],
   "source": [
    "print \"For EACH features, calculate the number of missing values :\"\n",
    "features = data_dict['METTS MARK'].keys()\n",
    "persons = data_dict.keys()\n",
    "dict_for_missing_values = {}\n",
    "for feature in features:\n",
    "    dict_for_missing_values[feature] = 0\n",
    "for person in data_dict.keys():\n",
    "    for feature in features:\n",
    "        if data_dict[person][feature] == 'NaN':\n",
    "            dict_for_missing_values[feature] += 1\n",
    "for key in dict_for_missing_values.keys():\n",
    "    dict_for_missing_values[key] *= 1.0\n",
    "    dict_for_missing_values[key] /= len(data_dict.keys())\n",
    "print dict_for_missing_values"
   ]
  },
  {
   "cell_type": "markdown",
   "metadata": {},
   "source": [
    "According to missing rate given, I will discard ANY feature whose NaN rate is greater than or equal to 50%."
   ]
  },
  {
   "cell_type": "code",
   "execution_count": 9,
   "metadata": {
    "collapsed": false
   },
   "outputs": [
    {
     "name": "stdout",
     "output_type": "stream",
     "text": [
      "Extract low NaN rate features\n",
      "['salary', 'to_messages', 'total_payments', 'bonus', 'email_address', 'total_stock_value', 'shared_receipt_with_poi', 'exercised_stock_options', 'from_messages', 'other', 'from_poi_to_this_person', 'from_this_person_to_poi', 'poi', 'expenses', 'restricted_stock']\n"
     ]
    }
   ],
   "source": [
    "print \"Extract low NaN rate features\"\n",
    "current_valid_features = []\n",
    "for key in dict_for_missing_values.keys():\n",
    "    if dict_for_missing_values[key] < 0.5:\n",
    "        current_valid_features.append(key)\n",
    "print current_valid_features"
   ]
  },
  {
   "cell_type": "markdown",
   "metadata": {},
   "source": [
    "In my opinion, email_address feature is usually given to an employee by a company according to his or her name. As a result, it is overlapped with name and I will also discard this feature. Also since I do not know what \"other\" feature is, I will simply discard it. "
   ]
  },
  {
   "cell_type": "code",
   "execution_count": 10,
   "metadata": {
    "collapsed": false
   },
   "outputs": [
    {
     "name": "stdout",
     "output_type": "stream",
     "text": [
      "Final features to go to next step is  ['salary', 'to_messages', 'total_payments', 'bonus', 'total_stock_value', 'shared_receipt_with_poi', 'exercised_stock_options', 'from_messages', 'from_poi_to_this_person', 'from_this_person_to_poi', 'poi', 'expenses', 'restricted_stock']\n"
     ]
    }
   ],
   "source": [
    "final_features = []\n",
    "for feature in current_valid_features:\n",
    "    if feature != 'email_address' and feature != 'other': # Discard both \"email_address\" and \"other\" feature!\n",
    "        final_features.append(feature)\n",
    "print \"Final features to go to next step is \", final_features"
   ]
  },
  {
   "cell_type": "markdown",
   "metadata": {},
   "source": [
    "## Outlier Detection and Removal"
   ]
  },
  {
   "cell_type": "markdown",
   "metadata": {},
   "source": [
    "Use Pandas frame to deal with original data with final features given above."
   ]
  },
  {
   "cell_type": "code",
   "execution_count": 11,
   "metadata": {
    "collapsed": false
   },
   "outputs": [
    {
     "data": {
      "text/html": [
       "<div>\n",
       "<style>\n",
       "    .dataframe thead tr:only-child th {\n",
       "        text-align: right;\n",
       "    }\n",
       "\n",
       "    .dataframe thead th {\n",
       "        text-align: left;\n",
       "    }\n",
       "\n",
       "    .dataframe tbody tr th {\n",
       "        vertical-align: top;\n",
       "    }\n",
       "</style>\n",
       "<table border=\"1\" class=\"dataframe\">\n",
       "  <thead>\n",
       "    <tr style=\"text-align: right;\">\n",
       "      <th></th>\n",
       "      <th>salary</th>\n",
       "      <th>to_messages</th>\n",
       "      <th>total_payments</th>\n",
       "      <th>bonus</th>\n",
       "      <th>total_stock_value</th>\n",
       "      <th>shared_receipt_with_poi</th>\n",
       "      <th>exercised_stock_options</th>\n",
       "      <th>from_messages</th>\n",
       "      <th>from_poi_to_this_person</th>\n",
       "      <th>from_this_person_to_poi</th>\n",
       "      <th>poi</th>\n",
       "      <th>expenses</th>\n",
       "      <th>restricted_stock</th>\n",
       "    </tr>\n",
       "  </thead>\n",
       "  <tbody>\n",
       "    <tr>\n",
       "      <th>METTS MARK</th>\n",
       "      <td>365788.0</td>\n",
       "      <td>807.0</td>\n",
       "      <td>1061827.0</td>\n",
       "      <td>600000.0</td>\n",
       "      <td>585062.0</td>\n",
       "      <td>702.0</td>\n",
       "      <td>0.0</td>\n",
       "      <td>29.0</td>\n",
       "      <td>38.0</td>\n",
       "      <td>1.0</td>\n",
       "      <td>0.0</td>\n",
       "      <td>94299.0</td>\n",
       "      <td>585062.0</td>\n",
       "    </tr>\n",
       "    <tr>\n",
       "      <th>BAXTER JOHN C</th>\n",
       "      <td>267102.0</td>\n",
       "      <td>0.0</td>\n",
       "      <td>5634343.0</td>\n",
       "      <td>1200000.0</td>\n",
       "      <td>10623258.0</td>\n",
       "      <td>0.0</td>\n",
       "      <td>6680544.0</td>\n",
       "      <td>0.0</td>\n",
       "      <td>0.0</td>\n",
       "      <td>0.0</td>\n",
       "      <td>0.0</td>\n",
       "      <td>11200.0</td>\n",
       "      <td>3942714.0</td>\n",
       "    </tr>\n",
       "    <tr>\n",
       "      <th>ELLIOTT STEVEN</th>\n",
       "      <td>170941.0</td>\n",
       "      <td>0.0</td>\n",
       "      <td>211725.0</td>\n",
       "      <td>350000.0</td>\n",
       "      <td>6678735.0</td>\n",
       "      <td>0.0</td>\n",
       "      <td>4890344.0</td>\n",
       "      <td>0.0</td>\n",
       "      <td>0.0</td>\n",
       "      <td>0.0</td>\n",
       "      <td>0.0</td>\n",
       "      <td>78552.0</td>\n",
       "      <td>1788391.0</td>\n",
       "    </tr>\n",
       "    <tr>\n",
       "      <th>CORDES WILLIAM R</th>\n",
       "      <td>0.0</td>\n",
       "      <td>764.0</td>\n",
       "      <td>0.0</td>\n",
       "      <td>0.0</td>\n",
       "      <td>1038185.0</td>\n",
       "      <td>58.0</td>\n",
       "      <td>651850.0</td>\n",
       "      <td>12.0</td>\n",
       "      <td>10.0</td>\n",
       "      <td>0.0</td>\n",
       "      <td>0.0</td>\n",
       "      <td>0.0</td>\n",
       "      <td>386335.0</td>\n",
       "    </tr>\n",
       "    <tr>\n",
       "      <th>HANNON KEVIN P</th>\n",
       "      <td>243293.0</td>\n",
       "      <td>1045.0</td>\n",
       "      <td>288682.0</td>\n",
       "      <td>1500000.0</td>\n",
       "      <td>6391065.0</td>\n",
       "      <td>1035.0</td>\n",
       "      <td>5538001.0</td>\n",
       "      <td>32.0</td>\n",
       "      <td>32.0</td>\n",
       "      <td>21.0</td>\n",
       "      <td>1.0</td>\n",
       "      <td>34039.0</td>\n",
       "      <td>853064.0</td>\n",
       "    </tr>\n",
       "  </tbody>\n",
       "</table>\n",
       "</div>"
      ],
      "text/plain": [
       "                    salary  to_messages  total_payments      bonus  \\\n",
       "METTS MARK        365788.0        807.0       1061827.0   600000.0   \n",
       "BAXTER JOHN C     267102.0          0.0       5634343.0  1200000.0   \n",
       "ELLIOTT STEVEN    170941.0          0.0        211725.0   350000.0   \n",
       "CORDES WILLIAM R       0.0        764.0             0.0        0.0   \n",
       "HANNON KEVIN P    243293.0       1045.0        288682.0  1500000.0   \n",
       "\n",
       "                  total_stock_value  shared_receipt_with_poi  \\\n",
       "METTS MARK                 585062.0                    702.0   \n",
       "BAXTER JOHN C            10623258.0                      0.0   \n",
       "ELLIOTT STEVEN            6678735.0                      0.0   \n",
       "CORDES WILLIAM R          1038185.0                     58.0   \n",
       "HANNON KEVIN P            6391065.0                   1035.0   \n",
       "\n",
       "                  exercised_stock_options  from_messages  \\\n",
       "METTS MARK                            0.0           29.0   \n",
       "BAXTER JOHN C                   6680544.0            0.0   \n",
       "ELLIOTT STEVEN                  4890344.0            0.0   \n",
       "CORDES WILLIAM R                 651850.0           12.0   \n",
       "HANNON KEVIN P                  5538001.0           32.0   \n",
       "\n",
       "                  from_poi_to_this_person  from_this_person_to_poi  poi  \\\n",
       "METTS MARK                           38.0                      1.0  0.0   \n",
       "BAXTER JOHN C                         0.0                      0.0  0.0   \n",
       "ELLIOTT STEVEN                        0.0                      0.0  0.0   \n",
       "CORDES WILLIAM R                     10.0                      0.0  0.0   \n",
       "HANNON KEVIN P                       32.0                     21.0  1.0   \n",
       "\n",
       "                  expenses  restricted_stock  \n",
       "METTS MARK         94299.0          585062.0  \n",
       "BAXTER JOHN C      11200.0         3942714.0  \n",
       "ELLIOTT STEVEN     78552.0         1788391.0  \n",
       "CORDES WILLIAM R       0.0          386335.0  \n",
       "HANNON KEVIN P     34039.0          853064.0  "
      ]
     },
     "execution_count": 11,
     "metadata": {},
     "output_type": "execute_result"
    }
   ],
   "source": [
    "import pandas as pd\n",
    "import numpy as np\n",
    "\n",
    "data = np.transpose(featureFormat(data_dict, final_features, remove_all_zeroes=False))\n",
    "data_df = pd.DataFrame(data, final_features).transpose()\n",
    "data_df.index = data_dict.keys()\n",
    "data_df.head()"
   ]
  },
  {
   "cell_type": "markdown",
   "metadata": {},
   "source": [
    "For finding outlier and feature engineering step, I will use data_df as a dataframe to execuate.\n",
    "\n",
    "The next step is to find outliers. Outliers usually have very big or very small values compared with other normal data points. As a result, I first give a brief statistical description of ALL considered features (<= 50% NaN value features).  "
   ]
  },
  {
   "cell_type": "code",
   "execution_count": 12,
   "metadata": {
    "collapsed": false
   },
   "outputs": [
    {
     "data": {
      "text/plain": [
       "count    1.460000e+02\n",
       "mean     3.658114e+05\n",
       "std      2.203575e+06\n",
       "min      0.000000e+00\n",
       "25%      0.000000e+00\n",
       "50%      2.105960e+05\n",
       "75%      2.708505e+05\n",
       "max      2.670423e+07\n",
       "Name: salary, dtype: float64"
      ]
     },
     "execution_count": 12,
     "metadata": {},
     "output_type": "execute_result"
    }
   ],
   "source": [
    "data_df.salary.describe()"
   ]
  },
  {
   "cell_type": "code",
   "execution_count": 13,
   "metadata": {
    "collapsed": false
   },
   "outputs": [
    {
     "data": {
      "text/plain": [
       "count    1.460000e+02\n",
       "mean     1.333474e+06\n",
       "std      8.094029e+06\n",
       "min      0.000000e+00\n",
       "25%      0.000000e+00\n",
       "50%      3.000000e+05\n",
       "75%      8.000000e+05\n",
       "max      9.734362e+07\n",
       "Name: bonus, dtype: float64"
      ]
     },
     "execution_count": 13,
     "metadata": {},
     "output_type": "execute_result"
    }
   ],
   "source": [
    "data_df.bonus.describe()"
   ]
  },
  {
   "cell_type": "markdown",
   "metadata": {},
   "source": [
    "It looks like that std for both \"salary\" and \"bonus\" are huge compare to mean. As a result, I assume that there should be some kinds of outliers in these two features."
   ]
  },
  {
   "cell_type": "code",
   "execution_count": 14,
   "metadata": {
    "collapsed": false
   },
   "outputs": [
    {
     "data": {
      "text/html": [
       "<div>\n",
       "<style>\n",
       "    .dataframe thead tr:only-child th {\n",
       "        text-align: right;\n",
       "    }\n",
       "\n",
       "    .dataframe thead th {\n",
       "        text-align: left;\n",
       "    }\n",
       "\n",
       "    .dataframe tbody tr th {\n",
       "        vertical-align: top;\n",
       "    }\n",
       "</style>\n",
       "<table border=\"1\" class=\"dataframe\">\n",
       "  <thead>\n",
       "    <tr style=\"text-align: right;\">\n",
       "      <th></th>\n",
       "      <th>salary</th>\n",
       "      <th>bonus</th>\n",
       "    </tr>\n",
       "  </thead>\n",
       "  <tbody>\n",
       "    <tr>\n",
       "      <th>METTS MARK</th>\n",
       "      <td>365788.0</td>\n",
       "      <td>600000.0</td>\n",
       "    </tr>\n",
       "    <tr>\n",
       "      <th>BAXTER JOHN C</th>\n",
       "      <td>267102.0</td>\n",
       "      <td>1200000.0</td>\n",
       "    </tr>\n",
       "    <tr>\n",
       "      <th>ELLIOTT STEVEN</th>\n",
       "      <td>170941.0</td>\n",
       "      <td>350000.0</td>\n",
       "    </tr>\n",
       "    <tr>\n",
       "      <th>CORDES WILLIAM R</th>\n",
       "      <td>0.0</td>\n",
       "      <td>0.0</td>\n",
       "    </tr>\n",
       "    <tr>\n",
       "      <th>HANNON KEVIN P</th>\n",
       "      <td>243293.0</td>\n",
       "      <td>1500000.0</td>\n",
       "    </tr>\n",
       "  </tbody>\n",
       "</table>\n",
       "</div>"
      ],
      "text/plain": [
       "                    salary      bonus\n",
       "METTS MARK        365788.0   600000.0\n",
       "BAXTER JOHN C     267102.0  1200000.0\n",
       "ELLIOTT STEVEN    170941.0   350000.0\n",
       "CORDES WILLIAM R       0.0        0.0\n",
       "HANNON KEVIN P    243293.0  1500000.0"
      ]
     },
     "execution_count": 14,
     "metadata": {},
     "output_type": "execute_result"
    }
   ],
   "source": [
    "data_df_bonus_salary = data_df[['salary', 'bonus']]\n",
    "data_df_bonus_salary.head()"
   ]
  },
  {
   "cell_type": "code",
   "execution_count": 15,
   "metadata": {
    "collapsed": false
   },
   "outputs": [
    {
     "data": {
      "text/plain": [
       "<matplotlib.axes._subplots.AxesSubplot at 0xce84978>"
      ]
     },
     "execution_count": 15,
     "metadata": {},
     "output_type": "execute_result"
    },
    {
     "data": {
      "image/png": "[encoded data removed]",
      "text/plain": [
       "<matplotlib.figure.Figure at 0xce844a8>"
      ]
     },
     "metadata": {},
     "output_type": "display_data"
    }
   ],
   "source": [
    "%matplotlib inline\n",
    "data_df_bonus_salary.plot(kind = 'scatter', x = 'salary', y = 'bonus')"
   ]
  },
  {
   "cell_type": "markdown",
   "metadata": {},
   "source": [
    "It looks like that a clear point at up right corner of this grpah is an outlier. Now I need to find it."
   ]
  },
  {
   "cell_type": "code",
   "execution_count": 16,
   "metadata": {
    "collapsed": false
   },
   "outputs": [
    {
     "name": "stdout",
     "output_type": "stream",
     "text": [
      "           salary  to_messages  total_payments       bonus  total_stock_value  \\\n",
      "TOTAL  26704229.0          0.0     309886585.0  97343619.0        434509511.0   \n",
      "\n",
      "       shared_receipt_with_poi  exercised_stock_options  from_messages  \\\n",
      "TOTAL                      0.0              311764000.0            0.0   \n",
      "\n",
      "       from_poi_to_this_person  from_this_person_to_poi  poi   expenses  \\\n",
      "TOTAL                      0.0                      0.0  0.0  5235198.0   \n",
      "\n",
      "       restricted_stock  \n",
      "TOTAL       130322299.0  \n"
     ]
    }
   ],
   "source": [
    "possible_outlier = data_df[data_df.salary == data_df.salary.max()]\n",
    "print possible_outlier"
   ]
  },
  {
   "cell_type": "markdown",
   "metadata": {},
   "source": [
    "Definitely, this is an outlier since this data point is the TOTAL summary of other data points. Next I will remove it from data_df and redraw the same graph again."
   ]
  },
  {
   "cell_type": "code",
   "execution_count": 17,
   "metadata": {
    "collapsed": true
   },
   "outputs": [],
   "source": [
    "data_df_2 = data_df.drop('TOTAL')"
   ]
  },
  {
   "cell_type": "code",
   "execution_count": 18,
   "metadata": {
    "collapsed": false
   },
   "outputs": [
    {
     "data": {
      "text/plain": [
       "<matplotlib.axes._subplots.AxesSubplot at 0xd024cc0>"
      ]
     },
     "execution_count": 18,
     "metadata": {},
     "output_type": "execute_result"
    },
    {
     "data": {
      "image/png": "[encoded data removed]",
      "text/plain": [
       "<matplotlib.figure.Figure at 0xcf577f0>"
      ]
     },
     "metadata": {},
     "output_type": "display_data"
    }
   ],
   "source": [
    "data_df_2.plot(kind = 'scatter', x = 'salary', y = 'bonus')"
   ]
  },
  {
   "cell_type": "markdown",
   "metadata": {},
   "source": [
    "This graph looks much better now after I have removed \"TOTAL\" outlier!\n",
    "\n",
    "I also tried to find unreasonalable values such as negative values for ANY of money related fields."
   ]
  },
  {
   "cell_type": "code",
   "execution_count": 19,
   "metadata": {
    "collapsed": false
   },
   "outputs": [
    {
     "data": {
      "text/html": [
       "<div>\n",
       "<style>\n",
       "    .dataframe thead tr:only-child th {\n",
       "        text-align: right;\n",
       "    }\n",
       "\n",
       "    .dataframe thead th {\n",
       "        text-align: left;\n",
       "    }\n",
       "\n",
       "    .dataframe tbody tr th {\n",
       "        vertical-align: top;\n",
       "    }\n",
       "</style>\n",
       "<table border=\"1\" class=\"dataframe\">\n",
       "  <thead>\n",
       "    <tr style=\"text-align: right;\">\n",
       "      <th></th>\n",
       "      <th>salary</th>\n",
       "      <th>to_messages</th>\n",
       "      <th>total_payments</th>\n",
       "      <th>bonus</th>\n",
       "      <th>total_stock_value</th>\n",
       "      <th>shared_receipt_with_poi</th>\n",
       "      <th>exercised_stock_options</th>\n",
       "      <th>from_messages</th>\n",
       "      <th>from_poi_to_this_person</th>\n",
       "      <th>from_this_person_to_poi</th>\n",
       "      <th>poi</th>\n",
       "      <th>expenses</th>\n",
       "      <th>restricted_stock</th>\n",
       "    </tr>\n",
       "  </thead>\n",
       "  <tbody>\n",
       "    <tr>\n",
       "      <th>BHATNAGAR SANJAY</th>\n",
       "      <td>0.0</td>\n",
       "      <td>523.0</td>\n",
       "      <td>15456290.0</td>\n",
       "      <td>0.0</td>\n",
       "      <td>0.0</td>\n",
       "      <td>463.0</td>\n",
       "      <td>2604490.0</td>\n",
       "      <td>29.0</td>\n",
       "      <td>0.0</td>\n",
       "      <td>1.0</td>\n",
       "      <td>0.0</td>\n",
       "      <td>0.0</td>\n",
       "      <td>-2604490.0</td>\n",
       "    </tr>\n",
       "  </tbody>\n",
       "</table>\n",
       "</div>"
      ],
      "text/plain": [
       "                  salary  to_messages  total_payments  bonus  \\\n",
       "BHATNAGAR SANJAY     0.0        523.0      15456290.0    0.0   \n",
       "\n",
       "                  total_stock_value  shared_receipt_with_poi  \\\n",
       "BHATNAGAR SANJAY                0.0                    463.0   \n",
       "\n",
       "                  exercised_stock_options  from_messages  \\\n",
       "BHATNAGAR SANJAY                2604490.0           29.0   \n",
       "\n",
       "                  from_poi_to_this_person  from_this_person_to_poi  poi  \\\n",
       "BHATNAGAR SANJAY                      0.0                      1.0  0.0   \n",
       "\n",
       "                  expenses  restricted_stock  \n",
       "BHATNAGAR SANJAY       0.0        -2604490.0  "
      ]
     },
     "execution_count": 19,
     "metadata": {},
     "output_type": "execute_result"
    }
   ],
   "source": [
    "data_df_2[data_df_2.restricted_stock < 0.0]"
   ]
  },
  {
   "cell_type": "markdown",
   "metadata": {},
   "source": [
    "I do not think \"restricted_stock\" can be below zero. I believe it is a typo but since this value can never be retrieved and this person is NOT a POI, I will give up this person."
   ]
  },
  {
   "cell_type": "code",
   "execution_count": 20,
   "metadata": {
    "collapsed": true
   },
   "outputs": [],
   "source": [
    "data_df_3 = data_df_2.drop('BHATNAGAR SANJAY')"
   ]
  },
  {
   "cell_type": "code",
   "execution_count": 21,
   "metadata": {
    "collapsed": false
   },
   "outputs": [
    {
     "name": "stdout",
     "output_type": "stream",
     "text": [
      "144\n"
     ]
    }
   ],
   "source": [
    "print len(data_df_3)"
   ]
  },
  {
   "cell_type": "markdown",
   "metadata": {},
   "source": [
    "144 equals to 146 - 2 since I have removed just two outliers."
   ]
  },
  {
   "cell_type": "code",
   "execution_count": 22,
   "metadata": {
    "collapsed": false
   },
   "outputs": [
    {
     "data": {
      "text/html": [
       "<div>\n",
       "<style>\n",
       "    .dataframe thead tr:only-child th {\n",
       "        text-align: right;\n",
       "    }\n",
       "\n",
       "    .dataframe thead th {\n",
       "        text-align: left;\n",
       "    }\n",
       "\n",
       "    .dataframe tbody tr th {\n",
       "        vertical-align: top;\n",
       "    }\n",
       "</style>\n",
       "<table border=\"1\" class=\"dataframe\">\n",
       "  <thead>\n",
       "    <tr style=\"text-align: right;\">\n",
       "      <th></th>\n",
       "      <th>salary</th>\n",
       "      <th>to_messages</th>\n",
       "      <th>total_payments</th>\n",
       "      <th>bonus</th>\n",
       "      <th>total_stock_value</th>\n",
       "      <th>shared_receipt_with_poi</th>\n",
       "      <th>exercised_stock_options</th>\n",
       "      <th>from_messages</th>\n",
       "      <th>from_poi_to_this_person</th>\n",
       "      <th>from_this_person_to_poi</th>\n",
       "      <th>poi</th>\n",
       "      <th>expenses</th>\n",
       "      <th>restricted_stock</th>\n",
       "    </tr>\n",
       "  </thead>\n",
       "  <tbody>\n",
       "    <tr>\n",
       "      <th>METTS MARK</th>\n",
       "      <td>365788.0</td>\n",
       "      <td>807.0</td>\n",
       "      <td>1061827.0</td>\n",
       "      <td>600000.0</td>\n",
       "      <td>585062.0</td>\n",
       "      <td>702.0</td>\n",
       "      <td>0.0</td>\n",
       "      <td>29.0</td>\n",
       "      <td>38.0</td>\n",
       "      <td>1.0</td>\n",
       "      <td>0.0</td>\n",
       "      <td>94299.0</td>\n",
       "      <td>585062.0</td>\n",
       "    </tr>\n",
       "    <tr>\n",
       "      <th>BAXTER JOHN C</th>\n",
       "      <td>267102.0</td>\n",
       "      <td>0.0</td>\n",
       "      <td>5634343.0</td>\n",
       "      <td>1200000.0</td>\n",
       "      <td>10623258.0</td>\n",
       "      <td>0.0</td>\n",
       "      <td>6680544.0</td>\n",
       "      <td>0.0</td>\n",
       "      <td>0.0</td>\n",
       "      <td>0.0</td>\n",
       "      <td>0.0</td>\n",
       "      <td>11200.0</td>\n",
       "      <td>3942714.0</td>\n",
       "    </tr>\n",
       "    <tr>\n",
       "      <th>ELLIOTT STEVEN</th>\n",
       "      <td>170941.0</td>\n",
       "      <td>0.0</td>\n",
       "      <td>211725.0</td>\n",
       "      <td>350000.0</td>\n",
       "      <td>6678735.0</td>\n",
       "      <td>0.0</td>\n",
       "      <td>4890344.0</td>\n",
       "      <td>0.0</td>\n",
       "      <td>0.0</td>\n",
       "      <td>0.0</td>\n",
       "      <td>0.0</td>\n",
       "      <td>78552.0</td>\n",
       "      <td>1788391.0</td>\n",
       "    </tr>\n",
       "    <tr>\n",
       "      <th>CORDES WILLIAM R</th>\n",
       "      <td>0.0</td>\n",
       "      <td>764.0</td>\n",
       "      <td>0.0</td>\n",
       "      <td>0.0</td>\n",
       "      <td>1038185.0</td>\n",
       "      <td>58.0</td>\n",
       "      <td>651850.0</td>\n",
       "      <td>12.0</td>\n",
       "      <td>10.0</td>\n",
       "      <td>0.0</td>\n",
       "      <td>0.0</td>\n",
       "      <td>0.0</td>\n",
       "      <td>386335.0</td>\n",
       "    </tr>\n",
       "    <tr>\n",
       "      <th>HANNON KEVIN P</th>\n",
       "      <td>243293.0</td>\n",
       "      <td>1045.0</td>\n",
       "      <td>288682.0</td>\n",
       "      <td>1500000.0</td>\n",
       "      <td>6391065.0</td>\n",
       "      <td>1035.0</td>\n",
       "      <td>5538001.0</td>\n",
       "      <td>32.0</td>\n",
       "      <td>32.0</td>\n",
       "      <td>21.0</td>\n",
       "      <td>1.0</td>\n",
       "      <td>34039.0</td>\n",
       "      <td>853064.0</td>\n",
       "    </tr>\n",
       "  </tbody>\n",
       "</table>\n",
       "</div>"
      ],
      "text/plain": [
       "                    salary  to_messages  total_payments      bonus  \\\n",
       "METTS MARK        365788.0        807.0       1061827.0   600000.0   \n",
       "BAXTER JOHN C     267102.0          0.0       5634343.0  1200000.0   \n",
       "ELLIOTT STEVEN    170941.0          0.0        211725.0   350000.0   \n",
       "CORDES WILLIAM R       0.0        764.0             0.0        0.0   \n",
       "HANNON KEVIN P    243293.0       1045.0        288682.0  1500000.0   \n",
       "\n",
       "                  total_stock_value  shared_receipt_with_poi  \\\n",
       "METTS MARK                 585062.0                    702.0   \n",
       "BAXTER JOHN C            10623258.0                      0.0   \n",
       "ELLIOTT STEVEN            6678735.0                      0.0   \n",
       "CORDES WILLIAM R          1038185.0                     58.0   \n",
       "HANNON KEVIN P            6391065.0                   1035.0   \n",
       "\n",
       "                  exercised_stock_options  from_messages  \\\n",
       "METTS MARK                            0.0           29.0   \n",
       "BAXTER JOHN C                   6680544.0            0.0   \n",
       "ELLIOTT STEVEN                  4890344.0            0.0   \n",
       "CORDES WILLIAM R                 651850.0           12.0   \n",
       "HANNON KEVIN P                  5538001.0           32.0   \n",
       "\n",
       "                  from_poi_to_this_person  from_this_person_to_poi  poi  \\\n",
       "METTS MARK                           38.0                      1.0  0.0   \n",
       "BAXTER JOHN C                         0.0                      0.0  0.0   \n",
       "ELLIOTT STEVEN                        0.0                      0.0  0.0   \n",
       "CORDES WILLIAM R                     10.0                      0.0  0.0   \n",
       "HANNON KEVIN P                       32.0                     21.0  1.0   \n",
       "\n",
       "                  expenses  restricted_stock  \n",
       "METTS MARK         94299.0          585062.0  \n",
       "BAXTER JOHN C      11200.0         3942714.0  \n",
       "ELLIOTT STEVEN     78552.0         1788391.0  \n",
       "CORDES WILLIAM R       0.0          386335.0  \n",
       "HANNON KEVIN P     34039.0          853064.0  "
      ]
     },
     "execution_count": 22,
     "metadata": {},
     "output_type": "execute_result"
    }
   ],
   "source": [
    "data_df_without_outlier = data_df_3\n",
    "data_df_without_outlier.head()"
   ]
  },
  {
   "cell_type": "markdown",
   "metadata": {},
   "source": [
    "Now I have finished outlier detection and will go through feature processing."
   ]
  },
  {
   "cell_type": "markdown",
   "metadata": {},
   "source": [
    "## Feature Selection / Engineering"
   ]
  },
  {
   "cell_type": "code",
   "execution_count": 23,
   "metadata": {
    "collapsed": false
   },
   "outputs": [
    {
     "data": {
      "text/plain": [
       "['salary',\n",
       " 'to_messages',\n",
       " 'total_payments',\n",
       " 'bonus',\n",
       " 'total_stock_value',\n",
       " 'shared_receipt_with_poi',\n",
       " 'exercised_stock_options',\n",
       " 'from_messages',\n",
       " 'from_poi_to_this_person',\n",
       " 'from_this_person_to_poi',\n",
       " 'poi',\n",
       " 'expenses',\n",
       " 'restricted_stock']"
      ]
     },
     "execution_count": 23,
     "metadata": {},
     "output_type": "execute_result"
    }
   ],
   "source": [
    "list(data_df_without_outlier)"
   ]
  },
  {
   "cell_type": "markdown",
   "metadata": {},
   "source": [
    "After remove outliers, my first task in feature engineering is to generate new features using old features. Since \"from_poi_to_this_person\" and \"from_this_person_to_poi\" are absolute number which should be related to the number of all the messages this person sent. This fraction should be much more useful than \"from_poi_to_this_person\" and \"from_this_person_to_poi\" absolute number itself. Next I will use data_df_without_outlier to add these two new features. I named these two new features as \"percentage_from_poi_to_this_person\" and \"percentage_from_this_person_to_poi\"."
   ]
  },
  {
   "cell_type": "code",
   "execution_count": 24,
   "metadata": {
    "collapsed": false
   },
   "outputs": [
    {
     "name": "stdout",
     "output_type": "stream",
     "text": [
      "                  percentage_from_poi_to_this_person  \\\n",
      "METTS MARK                                  0.047088   \n",
      "BAXTER JOHN C                               0.000000   \n",
      "ELLIOTT STEVEN                              0.000000   \n",
      "CORDES WILLIAM R                            0.013089   \n",
      "HANNON KEVIN P                              0.030622   \n",
      "\n",
      "                  percentage_from_this_person_to_poi  poi  \n",
      "METTS MARK                                  0.034483  0.0  \n",
      "BAXTER JOHN C                               0.000000  0.0  \n",
      "ELLIOTT STEVEN                              0.000000  0.0  \n",
      "CORDES WILLIAM R                            0.000000  0.0  \n",
      "HANNON KEVIN P                              0.656250  1.0  \n"
     ]
    }
   ],
   "source": [
    "### new features are:\n",
    "###    percentage_from_poi_to_this_person : from_poi_to_this_person / to_messages\n",
    "###    percentage_from_this_person_to_poi : from_this_person_to_poi / from_messages\n",
    "\n",
    "data_df_without_outlier['percentage_from_poi_to_this_person'] = data_df_without_outlier.from_poi_to_this_person / data_df_without_outlier.to_messages\n",
    "data_df_without_outlier['percentage_from_this_person_to_poi'] = data_df_without_outlier.from_this_person_to_poi / data_df_without_outlier.from_messages\n",
    "\n",
    "### Fill all NaN to 0 since 0 of either to_messages or from_messages all means no emails to avoid devided by 0's NAN\n",
    "data_df_without_outlier['percentage_from_this_person_to_poi'].fillna(0, inplace=True)\n",
    "data_df_without_outlier['percentage_from_poi_to_this_person'].fillna(0, inplace=True)\n",
    "new_features = data_df_without_outlier[['percentage_from_poi_to_this_person', 'percentage_from_this_person_to_poi', 'poi']]\n",
    "print new_features.head()"
   ]
  },
  {
   "cell_type": "code",
   "execution_count": 25,
   "metadata": {
    "collapsed": false
   },
   "outputs": [
    {
     "data": {
      "text/plain": [
       "['salary',\n",
       " 'to_messages',\n",
       " 'total_payments',\n",
       " 'bonus',\n",
       " 'total_stock_value',\n",
       " 'shared_receipt_with_poi',\n",
       " 'exercised_stock_options',\n",
       " 'from_messages',\n",
       " 'from_poi_to_this_person',\n",
       " 'from_this_person_to_poi',\n",
       " 'poi',\n",
       " 'expenses',\n",
       " 'restricted_stock',\n",
       " 'percentage_from_poi_to_this_person',\n",
       " 'percentage_from_this_person_to_poi']"
      ]
     },
     "execution_count": 25,
     "metadata": {},
     "output_type": "execute_result"
    }
   ],
   "source": [
    "list(data_df_without_outlier)"
   ]
  },
  {
   "cell_type": "markdown",
   "metadata": {},
   "source": [
    "**Next, I will use decision tree feature importance to compare original and my newly generated features.**"
   ]
  },
  {
   "cell_type": "code",
   "execution_count": 26,
   "metadata": {
    "collapsed": false
   },
   "outputs": [
    {
     "name": "stdout",
     "output_type": "stream",
     "text": [
      "Features sorted by their score:\n",
      "[(0.2722, 'exercised_stock_options'), (0.1782, 'shared_receipt_with_poi'), (0.1361, 'percentage_from_this_person_to_poi'), (0.1193, 'expenses'), (0.1088, 'from_poi_to_this_person'), (0.0726, 'total_payments'), (0.0423, 'salary'), (0.0423, 'bonus'), (0.0282, 'restricted_stock'), (0.0, 'total_stock_value'), (0.0, 'to_messages'), (0.0, 'percentage_from_poi_to_this_person'), (0.0, 'from_this_person_to_poi'), (0.0, 'from_messages')]\n"
     ]
    }
   ],
   "source": [
    "from sklearn.tree import DecisionTreeClassifier\n",
    "import numpy as np\n",
    "\n",
    "# Extract data features (X) and data labels (Y) from dataframe without outliers\n",
    "X = data_df_without_outlier.drop('poi', axis = 1)\n",
    "Y = data_df_without_outlier.poi\n",
    "\n",
    "names = list(data_df_without_outlier)\n",
    "del names[-5] # Here I need to drop fifth element from end since it is 'poi' according to previous list\n",
    "rf = DecisionTreeClassifier()\n",
    "rf.fit(X, Y)\n",
    "print \"Features sorted by their score:\"\n",
    "print sorted(zip(map(lambda x: round(x, 4), rf.feature_importances_), names), reverse=True)"
   ]
  },
  {
   "cell_type": "markdown",
   "metadata": {},
   "source": [
    "I did not explicitly test my engineered features using decision tree or naive bayse classifier but I use decision tree's feature importances value to determine the importance of both original and newly added features. It looks like that 'percentage_from_poi_to_this_person' does not have high importance as what I expected previously since its importance did not beat that of 'from poi to this person'. However, 'percentage_from_this_person_to_poi' beat its corresponding version - 'from_this_person_to_poi'.\n",
    "\n",
    "Next I will use recursive feature selection (recursive feature elimination) to select features."
   ]
  },
  {
   "cell_type": "code",
   "execution_count": 103,
   "metadata": {
    "collapsed": false
   },
   "outputs": [
    {
     "name": "stdout",
     "output_type": "stream",
     "text": [
      "Optimal number of features : 6\n",
      "[False False  True False  True  True  True False False False  True False\n",
      " False  True]\n",
      "Selected features with recursive feature select using decision tree classifier:\n",
      "['total_payments', 'total_stock_value', 'shared_receipt_with_poi', 'exercised_stock_options', 'expenses', 'percentage_from_this_person_to_poi']\n"
     ]
    },
    {
     "data": {
      "image/png": "[encoded data removed]",
      "text/plain": [
       "<matplotlib.figure.Figure at 0xe554d68>"
      ]
     },
     "metadata": {},
     "output_type": "display_data"
    }
   ],
   "source": [
    "import matplotlib.pyplot as plt\n",
    "from sklearn.tree import DecisionTreeClassifier\n",
    "from sklearn.model_selection import StratifiedKFold\n",
    "from sklearn.feature_selection import RFECV\n",
    "from sklearn.datasets import make_classification\n",
    "\n",
    "dtc = DecisionTreeClassifier()\n",
    "rfecv = RFECV(estimator=dtc, step=1, cv=10, scoring='precision') # scoring choose between 'precision' or 'recall'\n",
    "rfecv.fit(X, Y)\n",
    "\n",
    "print \"Optimal number of features : %d\" % rfecv.n_features_\n",
    "print rfecv.support_\n",
    "\n",
    "print \"Selected features with recursive feature select using decision tree classifier:\"\n",
    "choose = rfecv.support_\n",
    "selected_features = []\n",
    "for idx in range(len(names)):\n",
    "    if choose[idx]:\n",
    "        selected_features.append(names[idx])\n",
    "print selected_features\n",
    " \n",
    "# Plot number of features VS. cross-validation scores\n",
    "plt.figure()\n",
    "plt.xlabel(\"Number of features selected\")\n",
    "plt.ylabel(\"Cross validation score (nb of correct classifications)\")\n",
    "plt.plot(range(1, len(rfecv.grid_scores_) + 1), rfecv.grid_scores_)\n",
    "plt.show()"
   ]
  },
  {
   "cell_type": "markdown",
   "metadata": {},
   "source": [
    "Since I will mainly use naive bayse and decision tree machine learning algorithms to do machine learning classification in next part. Naive bayse is a graphical-model based classifier which is invarient to feature scaling. Decision tree will split within one feature so feature scale is not necessary for it. As a result, I do NOT use any scale method here in this final project. \n",
    "\n",
    "Next, I will use these two machine learning classifiers to do prediction."
   ]
  },
  {
   "cell_type": "markdown",
   "metadata": {},
   "source": [
    "## Parameters Tuning and Performance Validation"
   ]
  },
  {
   "cell_type": "markdown",
   "metadata": {},
   "source": [
    "In order to use tester.py to give project evaluator both precison and recall, I need to save previous pandas dataframe to a dictionary of dictionary so that my machine learning algorithm, features I considered and final data set can be properly saved in .pkl files.\n",
    "\n",
    "Below is the function to do this transformation."
   ]
  },
  {
   "cell_type": "code",
   "execution_count": 54,
   "metadata": {
    "collapsed": true
   },
   "outputs": [],
   "source": [
    "### Convert DataFrame to a dictionary of dictionary\n",
    "def convert_df_to_dict_of_dict(df):\n",
    "    '''\n",
    "        dictionary keys are names of persons in dataset\n",
    "        dictionary values are dictionaries, where each\n",
    "        key-value pair in the dict is the name\n",
    "        of a feature, and its value for that person\n",
    "    '''\n",
    "    list_of_person = df.index.values\n",
    "    feature_list = list(df)\n",
    "    rst = {}\n",
    "    for person in list_of_person:\n",
    "        cur_dict = {}\n",
    "        for feature in feature_list:\n",
    "            cur_dict[feature] = df.loc[person, feature]\n",
    "        rst[person] = cur_dict\n",
    "    return rst"
   ]
  },
  {
   "cell_type": "markdown",
   "metadata": {},
   "source": [
    "For each of the two machine learning classifier, I do exactly the same things:\n",
    "    * Convert data frame to dictionary of dictionary;\n",
    "    * Split train and test data sets for target classifier for future validation;\n",
    "    * Train the classifier with properly choosen parameters;\n",
    "    * Get three metrics -> precision, recall and accuracy;\n",
    "    * Dump three required .pkl files for tester.py to test."
   ]
  },
  {
   "cell_type": "markdown",
   "metadata": {},
   "source": [
    "First machine learning classifier - decision tree:"
   ]
  },
  {
   "cell_type": "markdown",
   "metadata": {},
   "source": [
    "**What validation is and why it is important?**\n",
    "\n",
    "Normally a known set of data will be splitted into three parts - training, validation and testing in a whole machine learning process. The validation data is taken out from whole data set since it is only used for hyperparameter tunning. Here hyperparameter means parameters of machine learning classifier that has to be fixed before training. The reason why validation data set and testing data set should not be overlapped is that if these two data sets are overlapped, then some information only exists in testing data may be leaked into process of getting optimal hyperparameter tunning which will potientially lead to overfitting of a certain machine learning classifier. The validation process is important since one can use it to get optimal hyperparameters without making the machine learning classifier overfitting. Otherwise one needs to use past experience to tuning hyperparameters without validation.     "
   ]
  },
  {
   "cell_type": "markdown",
   "metadata": {},
   "source": [
    "**The detail about my decision tree validation process and the rational behind it**\n",
    "\n",
    "Since I do not tune any hyperparameters in naive bayse classifier, I will only address the process of validation of my decision tree classifier in detail. My codes below use GridSearchCV in sklearn to exhaustive search over specified hyperparameter values for a decision tree classifier. I use cross_validation.train_test_split() to hold 10% of test data set which I will never touch before prediction with tunned hyperparameter trained decision tree classifier. Next, I defined one hyperparameter - 'min_samples_split' to tune in range 2 to 10. The default cross-validation folder number is 3 when I do not assign it in GridSearchCV(). The cross-validation process is to split training data set to 3 same size sets. Each time, one set will be used as a validation set and the other two sets will be the training set for validation. Thus for each hyperparameter options from 2 to 10, three scores can be calculated after use training set for validation to fit for decision tree and use validation set to do prediction. Use something like the average of three scores to present the performance of each hyperparameter candidates and choose the one with best performance. Why not only use one folder but use multiple folders for cross-validation? The reason is for robustness. If use only one time of cross-validation, it is possible that training set (2/3 of original training data) and validation set (1/3 of original training data) each has some pattern which may result in a special combination of training and validation sets. Do it three times with each 1/3 of original training set can be set as validation data set can largely decreases this possibility. However, use more cv folds means more training validation data, more times of running classifier which implies more time spent in cross-validation. As a result, this is a tradeoff between good for generalize hyperparameter and time spent in cross-validation.   "
   ]
  },
  {
   "cell_type": "code",
   "execution_count": 112,
   "metadata": {
    "collapsed": false
   },
   "outputs": [
    {
     "name": "stdout",
     "output_type": "stream",
     "text": [
      "Best parameter for min_sample_split is:\n",
      "DecisionTreeClassifier(class_weight=None, criterion='gini', max_depth=None,\n",
      "            max_features=None, max_leaf_nodes=None,\n",
      "            min_impurity_decrease=0.0, min_impurity_split=None,\n",
      "            min_samples_leaf=1, min_samples_split=5,\n",
      "            min_weight_fraction_leaf=0.0, presort=False, random_state=None,\n",
      "            splitter='best')\n",
      "accuracy =  0.8\n",
      "precision =  0.5\n",
      "recall =  0.333333333333\n"
     ]
    }
   ],
   "source": [
    "### features_list is a list of strings, each of which is a feature name\n",
    "### first feature must be \"poi\".\n",
    "### I manually select these features with the help of tester.py\n",
    "### The following features are the final features I used for decision tree classifier\n",
    "# features_list = ['poi', 'salary', 'bonus', 'shared_receipt_with_poi', 'percentage_from_poi_to_this_person', 'percentage_from_this_person_to_poi']\n",
    "features_list = ['poi'] + selected_features\n",
    "\n",
    "### store to my_dataset for easy export below\n",
    "my_dataset = convert_df_to_dict_of_dict(data_df_without_outlier)\n",
    "\n",
    "### Extract features and labels from dataset for local testing\n",
    "data = featureFormat(my_dataset, features_list)\n",
    "labels, features = targetFeatureSplit(data)\n",
    "\n",
    "### please name your classifier clf for easy export below\n",
    "from sklearn import cross_validation\n",
    "features_train, features_test, labels_train, labels_test = cross_validation.train_test_split(features, labels, test_size=0.1, random_state=42)\n",
    "\n",
    "### first use decision tree as machine learning classifier\n",
    "from sklearn.tree import DecisionTreeClassifier\n",
    "from sklearn.grid_search import GridSearchCV\n",
    "\n",
    "### Tune parameters using GridSearchCV\n",
    "param_grid = {'min_samples_split': np.arange(2, 10)}\n",
    "clf = GridSearchCV(DecisionTreeClassifier(), param_grid)\n",
    "\n",
    "clf = clf.fit(features_train,labels_train)\n",
    "print \"Best parameter for min_sample_split is:\"\n",
    "print clf.best_estimator_\n",
    "pred= clf.predict(features_test)\n",
    "\n",
    "print \"accuracy = \", accuracy_score(labels_test, pred)\n",
    "print 'precision = ', precision_score(labels_test,pred)\n",
    "print 'recall = ', recall_score(labels_test,pred)\n",
    "\n",
    "### dump your classifier, dataset and features_list so\n",
    "### anyone can run/check your results\n",
    "pickle.dump(clf, open(\"my_classifier.pkl\", \"w\") )\n",
    "pickle.dump(my_dataset, open(\"my_dataset.pkl\", \"w\") )\n",
    "pickle.dump(features_list, open(\"my_feature_list.pkl\", \"w\") )"
   ]
  },
  {
   "cell_type": "markdown",
   "metadata": {},
   "source": [
    "**Here is what it means to perform parameter tuning and why it is important?**\n",
    "\n",
    "One of the biggest problem when using some of the machine learning classifier is that some parameters need to be set before the training of it. Parameter tuning is a process of using some data to get a optimal value of these parameters in respect to the performance of machine learning classifier. This kind of parameters are called hyperparameter. Since these parameters will influence the performance of trained machine learning classifier, it is very important. \n",
    "\n",
    "In decision tree classifier, I tuned only one parameter called \"min_samples_split\". It is the minimum number of samples required to split an internal node in the decision tree. If this number (assume it is integer) is too small, then this decision tree model will tend to overfit since decision tree leaf can contain only small number of data points. While this number is too big, then it will restrict decision tree's total number of splits which will result in underfit. Here I choose range 2 to 10 and find range 3 to 7 out performs other numbers in the range. "
   ]
  },
  {
   "cell_type": "markdown",
   "metadata": {},
   "source": [
    "Second machine learning classifier - Naive Bayse:"
   ]
  },
  {
   "cell_type": "code",
   "execution_count": 110,
   "metadata": {
    "collapsed": false
   },
   "outputs": [
    {
     "name": "stdout",
     "output_type": "stream",
     "text": [
      "accuracy =  0.866666666667\n",
      "precision =  1.0\n",
      "recall =  0.333333333333\n"
     ]
    }
   ],
   "source": [
    "from sklearn.naive_bayes import GaussianNB\n",
    "\n",
    "### features_list is a list of strings, each of which is a feature name\n",
    "### first feature must be \"poi\".\n",
    "### I manually select these features with the help of tester.py\n",
    "### The following features are the final features I used for naive bayse\n",
    "# features_list = ['poi', 'salary', 'bonus', 'total_stock_value', 'shared_receipt_with_poi', 'exercised_stock_options', 'from_poi_to_this_person', 'from_this_person_to_poi', 'expenses', 'restricted_stock', 'percentage_from_poi_to_this_person', 'percentage_from_this_person_to_poi']\n",
    "features_list = ['poi'] + selected_features\n",
    "\n",
    "### store to my_dataset for easy export below\n",
    "my_dataset = convert_df_to_dict_of_dict(data_df_without_outlier)\n",
    "\n",
    "### Extract features and labels from dataset for local testing\n",
    "data = featureFormat(my_dataset, features_list)\n",
    "labels, features = targetFeatureSplit(data)\n",
    "\n",
    "### please name your classifier clf for easy export below\n",
    "from sklearn import cross_validation\n",
    "features_train, features_test, labels_train, labels_test = cross_validation.train_test_split(features, labels, test_size=0.1, random_state=42)\n",
    "\n",
    "### use manual tuning parameter max_depth\n",
    "clf = GaussianNB()\n",
    "clf = clf.fit(features_train,labels_train)\n",
    "pred= clf.predict(features_test)\n",
    "\n",
    "print \"accuracy = \", accuracy_score(labels_test, pred)\n",
    "print 'precision = ', precision_score(labels_test,pred)\n",
    "print 'recall = ', recall_score(labels_test,pred)\n",
    "\n",
    "### dump your classifier, dataset and features_list so\n",
    "### anyone can run/check your results\n",
    "pickle.dump(clf, open(\"my_classifier.pkl\", \"w\") )\n",
    "pickle.dump(my_dataset, open(\"my_dataset.pkl\", \"w\") )\n",
    "pickle.dump(features_list, open(\"my_feature_list.pkl\", \"w\") )"
   ]
  },
  {
   "cell_type": "markdown",
   "metadata": {},
   "source": [
    "The previous performance between decision tree and naive bayse looks similar but recall of naive bayse is below 0.3 after running tester.py. As a result, I will choose decision tree as my final machine learning classifier."
   ]
  },
  {
   "cell_type": "markdown",
   "metadata": {},
   "source": [
    "## Discussion and Conclusions"
   ]
  },
  {
   "cell_type": "markdown",
   "metadata": {},
   "source": [
    "In this part, I will summarize the decision tree classifier's result. I use three metrics - precision, recall and accuracy. The accuracy is the most easy one to understand. It shows how many percentage of data points in testing set is correctly classified. However, due to the very low ratio of people of interest devided by total number of people, this measure is not useful at all. For example, if I do not use ANY classifier but guess that every person in testing set is NOT people of interest, I will get a roughly (128 - 18) / 128 = 86% accuracy. On the other hand, the target of this final project is to FIND people of interest and make them responsible for what they do in court hopefully. From this point of view, I believe it is a good idea not to classify innocent people as people of interest(guilty). In other words, false positive rate should be low. Precision takes false positive into consideration. The result of my final decision tree classifier through tester.py is about 38%. This percentage shows that about 62% unknown people classified by this decision tree classifier as positive (POI) is really negative (non-POI). The final metric is recall. Instead of taking false positive into account like precision, recall take false negative into consideration. In this specific predict people of interest example, false negative rate refer to those who are people of interest(guilty) are classified as not guilty. Although I believe this is not as important as to classify good people as bad, but it is still a much more powerful metric compared with accuracy since this metric will directly influence how many bad guys go back to society with an innocent face. My final trained decision tree classifier gave about 33% recall after running tester.py. This recall means about 33% people of interest will be classified by this decision tree classifier as not people of interest.   "
   ]
  },
  {
   "cell_type": "markdown",
   "metadata": {},
   "source": [
    "==========\n",
    "\n",
    "Run tester.py on generated three .pkl files to make sure both precision and recall are over 0.3."
   ]
  },
  {
   "cell_type": "code",
   "execution_count": 59,
   "metadata": {
    "collapsed": true
   },
   "outputs": [],
   "source": [
    "import os\n",
    "import subprocess"
   ]
  },
  {
   "cell_type": "code",
   "execution_count": 113,
   "metadata": {
    "collapsed": false
   },
   "outputs": [
    {
     "name": "stdout",
     "output_type": "stream",
     "text": [
      "Running tester.py to test my classifier's precision and recall.... \n",
      "GridSearchCV(cv=None, error_score='raise',\n",
      "       estimator=DecisionTreeClassifier(class_weight=None, criterion='gini', max_depth=None,\n",
      "            max_features=None, max_leaf_nodes=None,\n",
      "            min_impurity_decrease=0.0, min_impurity_split=None,\n",
      "            min_samples_leaf=1, min_samples_split=2,\n",
      "            min_weight_fraction_leaf=0.0, presort=False, random_state=None,\n",
      "            splitter='best'),\n",
      "       fit_params={}, iid=True, n_jobs=1,\n",
      "       param_grid={'min_samples_split': array([2, 3, 4, 5, 6, 7, 8, 9])},\n",
      "       pre_dispatch='2*n_jobs', refit=True, scoring=None, verbose=0)\n",
      "\tAccuracy: 0.84053\tPrecision: 0.38774\tRecall: 0.33850\tF1: 0.36145\tF2: 0.34732\n",
      "\tTotal predictions: 15000\tTrue positives:  677\tFalse positives: 1069\tFalse negatives: 1323\tTrue negatives: 11931\n",
      "\n",
      "\n"
     ]
    }
   ],
   "source": [
    "print \"Running tester.py to test my classifier's precision and recall.... \"\n",
    "os.system(\"python tester.py\")\n",
    "print subprocess.check_output([\"python\", \"tester.py\"])"
   ]
  },
  {
   "cell_type": "markdown",
   "metadata": {},
   "source": [
    "===== END of Final Project Report ====="
   ]
  }
 ],
 "metadata": {
  "anaconda-cloud": {},
  "kernelspec": {
   "display_name": "Python [default]",
   "language": "python",
   "name": "python2"
  },
  "language_info": {
   "codemirror_mode": {
    "name": "ipython",
    "version": 2
   },
   "file_extension": ".py",
   "mimetype": "text/x-python",
   "name": "python",
   "nbconvert_exporter": "python",
   "pygments_lexer": "ipython2",
   "version": "2.7.12"
  }
 },
 "nbformat": 4,
 "nbformat_minor": 1
}
